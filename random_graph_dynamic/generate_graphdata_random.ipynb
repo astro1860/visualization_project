{
 "metadata": {
  "name": ""
 },
 "nbformat": 3,
 "nbformat_minor": 0,
 "worksheets": [
  {
   "cells": [
    {
     "cell_type": "code",
     "collapsed": false,
     "input": [
      "\n",
      "import networkx as nx    \n",
      "from networkx.readwrite import json_graph\n",
      "from operator import itemgetter\n",
      "import json \n",
      "import community\n",
      "import matplotlib.pyplot as plt\n",
      "import scipy as sp\n",
      "import numpy as np\n",
      "import scipy.io as spio\n",
      "\n",
      "G=nx.random_geometric_graph(50,0.25)\n",
      "# position is stored as node attribute data for random_geometric_graph\n",
      "pos=nx.get_node_attributes(G,'pos')\n",
      "\n",
      "# find node near center (0.5,0.5)\n",
      "dmin=1\n",
      "ncenter=0\n",
      "for n in pos:\n",
      "    x,y=pos[n]\n",
      "    d=(x-0.5)**2+(y-0.5)**2\n",
      "    if d<dmin:\n",
      "        ncenter=n\n",
      "        dmin=d\n",
      "\n",
      "# color by path length from node near center\n",
      "p=nx.single_source_shortest_path_length(G,ncenter)\n",
      "\n",
      "plt.figure(figsize=(8,8))\n",
      "nx.draw_networkx_edges(G,pos,nodelist=[ncenter],alpha=0.4)\n",
      "nx.draw_networkx_nodes(G,pos,nodelist=p.keys(),\n",
      "                       node_size=80,\n",
      "                       node_color=p.values(),\n",
      "                       cmap=plt.cm.Reds_r)\n",
      "\n",
      "plt.xlim(-0.05,1.05)\n",
      "plt.ylim(-0.05,1.05)\n",
      "plt.axis('off')\n",
      "plt.savefig('random_geometric_graph.png')\n",
      "plt.show()\n"
     ],
     "language": "python",
     "metadata": {},
     "outputs": [],
     "prompt_number": 1
    },
    {
     "cell_type": "code",
     "collapsed": false,
     "input": [
      "xaxis = {}\n",
      "yaxis = {}\n",
      "for key in pos:\n",
      "    xaxis[key]= (pos[key][0]*1000)*(pos[key][0])\n",
      "    yaxis[key]= (pos[key][1]*1000)*(pos[key][1])\n",
      "print xaxis\n",
      "#print y\n",
      "\n"
     ],
     "language": "python",
     "metadata": {},
     "outputs": [
      {
       "output_type": "stream",
       "stream": "stdout",
       "text": [
        "{0: 696.478356279263, 1: 0.665743214287067, 2: 1.0365281025559694, 3: 112.55579046414181, 4: 1.4906459529261882, 5: 978.1229587833035, 6: 363.612136997614, 7: 495.3744661355246, 8: 693.013940079478, 9: 13.387504740326436, 10: 871.6245377768363, 11: 765.9394121977217, 12: 0.05561151318115386, 13: 572.4904614246658, 14: 34.75716020106884, 15: 79.75768083333169, 16: 766.8169385020001, 17: 13.925052311309141, 18: 187.019751608753, 19: 117.38629714860447, 20: 282.95551881609754, 21: 50.229342251387436, 22: 995.7976204526768, 23: 15.05903295260878, 24: 112.83663795793312, 25: 823.935303320286, 26: 158.04306475400762, 27: 685.3222037080726, 28: 583.3260032309624, 29: 799.895365964208, 30: 205.34684241002037, 31: 430.92034544251806, 32: 281.3135793490776, 33: 564.4719925048103, 34: 9.504312744903158, 35: 0.44978916971129373, 36: 102.39562360057498, 37: 933.5700314661327, 38: 2.738057930656416, 39: 83.00344622145597, 40: 564.3027885660454, 41: 256.953475178849, 42: 928.702309198858, 43: 803.9114494309041, 44: 75.1314413553715, 45: 160.50988475147926, 46: 686.1142820743222, 47: 0.9185469645385781, 48: 650.0912879736292, 49: 788.1329013905788}\n"
       ]
      }
     ],
     "prompt_number": 2
    },
    {
     "cell_type": "code",
     "collapsed": false,
     "input": [],
     "language": "python",
     "metadata": {},
     "outputs": [],
     "prompt_number": 2
    },
    {
     "cell_type": "code",
     "collapsed": false,
     "input": [
      "fixed_dic = {}\n",
      "for key in pos:\n",
      "    fixed_dic[key]=True;\n",
      "\n",
      "print fixed_dic"
     ],
     "language": "python",
     "metadata": {},
     "outputs": [
      {
       "output_type": "stream",
       "stream": "stdout",
       "text": [
        "{0: True, 1: True, 2: True, 3: True, 4: True, 5: True, 6: True, 7: True, 8: True, 9: True, 10: True, 11: True, 12: True, 13: True, 14: True, 15: True, 16: True, 17: True, 18: True, 19: True, 20: True, 21: True, 22: True, 23: True, 24: True, 25: True, 26: True, 27: True, 28: True, 29: True, 30: True, 31: True, 32: True, 33: True, 34: True, 35: True, 36: True, 37: True, 38: True, 39: True, 40: True, 41: True, 42: True, 43: True, 44: True, 45: True, 46: True, 47: True, 48: True, 49: True}\n"
       ]
      }
     ],
     "prompt_number": 3
    },
    {
     "cell_type": "code",
     "collapsed": false,
     "input": [
      "\n",
      "def save_to_jsonfile(filename, graph):\n",
      "\tg = graph\n",
      "\tg_json = json_graph.node_link_data(g) # node-link format to serialize\n",
      "\tjson.dump(g_json, open(filename,'w'))\n",
      "    \n",
      "def calculate_degree(graph):\n",
      "\tprint \"Calculating degree...\"\n",
      "\tg = graph\n",
      "\tdeg = nx.degree(g)\n",
      "\tnx.set_node_attributes(g,'degree',deg)\n",
      "\treturn g, deg\n",
      "\n",
      "def calculate_betweenness(graph):\n",
      "\tprint \"Calculating betweenness...\"\n",
      "\tg = graph\n",
      "\tbc=nx.betweenness_centrality(g)\n",
      "\tnx.set_node_attributes(g,'betweenness',bc)\n",
      "\treturn g, bc\n",
      "\t\n",
      "def calculate_eigenvector_centrality(graph):\n",
      "\tprint \"Calculating Eigenvector Centrality...\"\n",
      "\tg = graph\n",
      "\tec = nx.eigenvector_centrality(g)\n",
      "\tnx.set_node_attributes(g,'eigen_cent',ec)\n",
      "\t#ec_sorted = sorted(ec.items(), key=itemgetter(1), reverse=True)\n",
      "\t# color=nx.get_node_attributes(G,'betweenness')  (returns a dict keyed by node ids) \n",
      "\treturn g, ec\n",
      "\n",
      "def calculate_degree_centrality(graph):\n",
      "\tprint \"Calculating Degree Centrality...\"\n",
      "\tg = graph\n",
      "\tnum_nodes = nx.number_of_nodes(g)\n",
      "\tdc = nx.degree_centrality(g)\n",
      "\tnx.set_node_attributes(g,'degree_cent',dc)\n",
      "\tdegcent_sorted = sorted(dc.items(), key=itemgetter(1), reverse=True)\n",
      "\tfor key,value in degcent_sorted[0:num_nodes-1]:\n",
      "\t\tprint \"Highest degree Centrality:\", key, value\n",
      "\n",
      "\treturn graph, dc\n",
      "\n",
      "def write_node_attributes(graph, attributes):\n",
      "\t# utility function to let you print the node + various attributes in a csv format\n",
      "\tif type(attributes) is not list:\n",
      "\t\tattributes = [attributes]\n",
      "\tfor node in graph.nodes():\n",
      "\t\tvals = [str(dict[node]) for dict in [nx.get_node_attributes(graph,x) for x in attributes]]\n",
      "\t\tprint node, \",\", \",\".join(vals)\n",
      "\n",
      "def add_group_attributes(graph):\n",
      "\tprint \"adding groups to the graph...\"\n",
      "\tg = graph\n",
      "\tlabel_group = group\n",
      "\tnx.set_node_attributes(g,'group',label_group)\n",
      "\treturn g,label_group\n",
      "\n",
      "\n",
      "def add_position_attributes(graph):\n",
      "\tprint \"adding position to the graph...\"\n",
      "\tg = graph\n",
      "\tpos=nx.get_node_attributes(G,'pos')\n",
      "    \n",
      "\tnx.set_node_attributes(g,'pos',pos)\n",
      "\treturn g,pos\n",
      "\n",
      "\n",
      "def add_coordinates_x_attributes(graph):\n",
      "\tprint \"adding x to the graph...\"\n",
      "\tg = graph\n",
      "\t#x = xaxis\n",
      "\tnx.set_node_attributes(g,'x',xaxis)\n",
      "\treturn g,xaxis\n",
      "\n",
      "def add_coordinates_y_attributes(graph):\n",
      "\tprint \"adding y to the graph...\"\n",
      "\tg = graph\n",
      "\t#x = xaxis\n",
      "\tnx.set_node_attributes(g,'y',yaxis)\n",
      "\treturn g,yaxis\n",
      "\n",
      "def add_fixed_attributes(graph):\n",
      "\tprint \"adding fixed to the graph...\"\n",
      "\tg = graph\n",
      "\tfixed_info = fixed_dic\n",
      "\tnx.set_node_attributes(g,'fixed',fixed_info)\n",
      "\treturn g,label_group"
     ],
     "language": "python",
     "metadata": {},
     "outputs": [],
     "prompt_number": 4
    },
    {
     "cell_type": "code",
     "collapsed": false,
     "input": [
      "#g =nx.from_numpy_matrix(G)\n",
      "g = G\n",
      "g, deg = calculate_degree(g)\n",
      "g, eigen = calculate_eigenvector_centrality(g)\n",
      "g, degcent = calculate_degree_centrality(g)\n",
      "#g, label = add_label_attributes(g)\n",
      "g, pos = add_position_attributes(g)\n",
      "g,x = add_coordinates_x_attributes(g)\n",
      "g,y = add_coordinates_y_attributes(g)\n",
      "g,fixed=add_fixed_attributes(g)"
     ],
     "language": "python",
     "metadata": {},
     "outputs": [
      {
       "ename": "NetworkXError",
       "evalue": "eigenvector_centrality(): \npower iteration failed to converge in %d iterations.\"%(i+1))",
       "output_type": "pyerr",
       "traceback": [
        "\u001b[0;31m---------------------------------------------------------------------------\u001b[0m\n\u001b[0;31mNetworkXError\u001b[0m                             Traceback (most recent call last)",
        "\u001b[0;32m<ipython-input-5-41e423f04312>\u001b[0m in \u001b[0;36m<module>\u001b[0;34m()\u001b[0m\n\u001b[1;32m      2\u001b[0m \u001b[0mg\u001b[0m \u001b[0;34m=\u001b[0m \u001b[0mG\u001b[0m\u001b[0;34m\u001b[0m\u001b[0m\n\u001b[1;32m      3\u001b[0m \u001b[0mg\u001b[0m\u001b[0;34m,\u001b[0m \u001b[0mdeg\u001b[0m \u001b[0;34m=\u001b[0m \u001b[0mcalculate_degree\u001b[0m\u001b[0;34m(\u001b[0m\u001b[0mg\u001b[0m\u001b[0;34m)\u001b[0m\u001b[0;34m\u001b[0m\u001b[0m\n\u001b[0;32m----> 4\u001b[0;31m \u001b[0mg\u001b[0m\u001b[0;34m,\u001b[0m \u001b[0meigen\u001b[0m \u001b[0;34m=\u001b[0m \u001b[0mcalculate_eigenvector_centrality\u001b[0m\u001b[0;34m(\u001b[0m\u001b[0mg\u001b[0m\u001b[0;34m)\u001b[0m\u001b[0;34m\u001b[0m\u001b[0m\n\u001b[0m\u001b[1;32m      5\u001b[0m \u001b[0mg\u001b[0m\u001b[0;34m,\u001b[0m \u001b[0mdegcent\u001b[0m \u001b[0;34m=\u001b[0m \u001b[0mcalculate_degree_centrality\u001b[0m\u001b[0;34m(\u001b[0m\u001b[0mg\u001b[0m\u001b[0;34m)\u001b[0m\u001b[0;34m\u001b[0m\u001b[0m\n\u001b[1;32m      6\u001b[0m \u001b[0;31m#g, label = add_label_attributes(g)\u001b[0m\u001b[0;34m\u001b[0m\u001b[0;34m\u001b[0m\u001b[0m\n",
        "\u001b[0;32m<ipython-input-4-a87c055ec0c6>\u001b[0m in \u001b[0;36mcalculate_eigenvector_centrality\u001b[0;34m(graph)\u001b[0m\n\u001b[1;32m     22\u001b[0m         \u001b[0;32mprint\u001b[0m \u001b[0;34m\"Calculating Eigenvector Centrality...\"\u001b[0m\u001b[0;34m\u001b[0m\u001b[0m\n\u001b[1;32m     23\u001b[0m         \u001b[0mg\u001b[0m \u001b[0;34m=\u001b[0m \u001b[0mgraph\u001b[0m\u001b[0;34m\u001b[0m\u001b[0m\n\u001b[0;32m---> 24\u001b[0;31m         \u001b[0mec\u001b[0m \u001b[0;34m=\u001b[0m \u001b[0mnx\u001b[0m\u001b[0;34m.\u001b[0m\u001b[0meigenvector_centrality\u001b[0m\u001b[0;34m(\u001b[0m\u001b[0mg\u001b[0m\u001b[0;34m)\u001b[0m\u001b[0;34m\u001b[0m\u001b[0m\n\u001b[0m\u001b[1;32m     25\u001b[0m         \u001b[0mnx\u001b[0m\u001b[0;34m.\u001b[0m\u001b[0mset_node_attributes\u001b[0m\u001b[0;34m(\u001b[0m\u001b[0mg\u001b[0m\u001b[0;34m,\u001b[0m\u001b[0;34m'eigen_cent'\u001b[0m\u001b[0;34m,\u001b[0m\u001b[0mec\u001b[0m\u001b[0;34m)\u001b[0m\u001b[0;34m\u001b[0m\u001b[0m\n\u001b[1;32m     26\u001b[0m         \u001b[0;31m#ec_sorted = sorted(ec.items(), key=itemgetter(1), reverse=True)\u001b[0m\u001b[0;34m\u001b[0m\u001b[0;34m\u001b[0m\u001b[0m\n",
        "\u001b[0;32m/Users/Hangxin/Library/Enthought/Canopy_64bit/User/lib/python2.7/site-packages/networkx/algorithms/centrality/eigenvector.pyc\u001b[0m in \u001b[0;36meigenvector_centrality\u001b[0;34m(G, max_iter, tol, nstart)\u001b[0m\n\u001b[1;32m    101\u001b[0m \u001b[0;34m\u001b[0m\u001b[0m\n\u001b[1;32m    102\u001b[0m     raise nx.NetworkXError(\"\"\"eigenvector_centrality(): \n\u001b[0;32m--> 103\u001b[0;31m power iteration failed to converge in %d iterations.\"%(i+1))\"\"\")\n\u001b[0m\u001b[1;32m    104\u001b[0m \u001b[0;34m\u001b[0m\u001b[0m\n\u001b[1;32m    105\u001b[0m \u001b[0;34m\u001b[0m\u001b[0m\n",
        "\u001b[0;31mNetworkXError\u001b[0m: eigenvector_centrality(): \npower iteration failed to converge in %d iterations.\"%(i+1))"
       ]
      },
      {
       "output_type": "stream",
       "stream": "stdout",
       "text": [
        "Calculating degree...\n",
        "Calculating Eigenvector Centrality...\n"
       ]
      }
     ],
     "prompt_number": 5
    },
    {
     "cell_type": "code",
     "collapsed": false,
     "input": [
      "g.node[20]"
     ],
     "language": "python",
     "metadata": {},
     "outputs": []
    },
    {
     "cell_type": "code",
     "collapsed": false,
     "input": [
      "#g =nx.from_numpy_matrix(G)\n",
      "num_nodes = nx.number_of_nodes(g)\n",
      "num_nodes\n",
      "\n",
      "eigen_sorted = sorted(eigen.items(), key=lambda(k,v):(float(v),k), reverse=True)\n",
      "# just check they look resonable: \n",
      "print len(eigen_sorted)\n",
      "for key, val in eigen_sorted[0:num_nodes-1]:\n",
      "    print \"highest eigenvector centrality nodes:\", key, val"
     ],
     "language": "python",
     "metadata": {},
     "outputs": []
    },
    {
     "cell_type": "code",
     "collapsed": false,
     "input": [],
     "language": "python",
     "metadata": {},
     "outputs": []
    },
    {
     "cell_type": "code",
     "collapsed": false,
     "input": [],
     "language": "python",
     "metadata": {},
     "outputs": []
    },
    {
     "cell_type": "code",
     "collapsed": false,
     "input": [
      "Brain1labs={}\n",
      "group ={}\n",
      "for i in range(len(g)): \n",
      "    if ec[i]>0.022:\n",
      "        group[i]=1\n",
      "        #Labelsshort[i]=Brain1labs[i][3:]\n",
      "    else:\n",
      "        group[i]=0\n",
      "\n",
      "print group\n",
      "\n",
      "g, group = add_group_attributes(g)"
     ],
     "language": "python",
     "metadata": {},
     "outputs": []
    },
    {
     "cell_type": "code",
     "collapsed": false,
     "input": [
      "save_to_jsonfile(\"graph_data_fixed.json\", g)"
     ],
     "language": "python",
     "metadata": {},
     "outputs": []
    },
    {
     "cell_type": "code",
     "collapsed": false,
     "input": [
      "import SimpleHTTPServer\n",
      "import http_server\n",
      "http_server.load_url('force_1.html')\n",
      "#http_server.load_url('random_graph.html')\n",
      "#http_server.load_url('test_4.html')"
     ],
     "language": "python",
     "metadata": {},
     "outputs": [
      {
       "name": "stdout",
       "output_type": "stream",
       "stream": "stdout",
       "text": [
        "Press <RETURN> to stop server\n",
        "\n"
       ]
      },
      {
       "output_type": "stream",
       "stream": "stdout",
       "text": [
        "To restart server run: \n",
        "python -m SimpleHTTPServer 8000\n"
       ]
      }
     ],
     "prompt_number": 23
    },
    {
     "cell_type": "code",
     "collapsed": false,
     "input": [
      "pwd"
     ],
     "language": "python",
     "metadata": {},
     "outputs": [
      {
       "metadata": {},
       "output_type": "pyout",
       "prompt_number": 21,
       "text": [
        "u'/Users/Hangxin/Documents/project/random_geometric'"
       ]
      }
     ],
     "prompt_number": 21
    },
    {
     "cell_type": "code",
     "collapsed": false,
     "input": [],
     "language": "python",
     "metadata": {},
     "outputs": [
      {
       "output_type": "stream",
       "stream": "stdout",
       "text": [
        "[[ 0.  1.  0. ...,  0.  0.  0.]\n",
        " [ 1.  0.  0. ...,  0.  0.  0.]\n",
        " [ 0.  0.  0. ...,  0.  0.  0.]\n",
        " ..., \n",
        " [ 0.  0.  0. ...,  0.  0.  1.]\n",
        " [ 0.  0.  0. ...,  0.  0.  0.]\n",
        " [ 0.  0.  0. ...,  1.  0.  0.]]\n",
        "[[ 11.  -1.   0. ...,   0.   0.   0.]\n",
        " [ -1.  15.   0. ...,   0.   0.   0.]\n",
        " [  0.   0.   4. ...,   0.   0.   0.]\n",
        " ..., \n",
        " [  0.   0.   0. ...,   4.   0.  -1.]\n",
        " [  0.   0.   0. ...,   0.   6.   0.]\n",
        " [  0.   0.   0. ...,  -1.   0.   5.]]\n",
        "[ -4.30243898e-15   1.56511522e-01   2.13689634e-01   7.21441339e-01\n",
        "   1.38012075e+00   1.60407484e+00   1.97523595e+00   2.13134409e+00\n",
        "   2.89950129e+00   3.42236057e+00   3.66999466e+00   3.94685608e+00\n",
        "   4.11722532e+00   4.87369234e+00   5.28553179e+00   5.69545945e+00\n",
        "   5.82964949e+00   5.88114310e+00   6.12861609e+00   6.34677522e+00\n",
        "   6.46579631e+00   6.75666193e+00   7.00000000e+00   7.00000000e+00\n",
        "   7.00000000e+00   7.00000000e+00   7.48597729e+00   7.55025344e+00\n",
        "   7.88308067e+00   8.51717799e+00   8.75947241e+00   8.94438494e+00\n",
        "   9.90793212e+00   1.04017422e+01   1.06514815e+01   1.08358462e+01\n",
        "   1.14379073e+01   1.17570829e+01   1.21485205e+01   1.25537016e+01\n",
        "   1.30361656e+01   1.33508969e+01   1.37949676e+01   1.40000000e+01\n",
        "   1.42074672e+01   1.47934058e+01   1.51698048e+01   1.59616379e+01\n",
        "   1.63125280e+01   1.70368834e+01]\n",
        "[[  1.41421356e-01  -2.29545293e-02   9.66577303e-02 ...,  -6.44428937e-02\n",
        "    2.56825219e-02  -2.57870760e-02]\n",
        " [  1.41421356e-01  -2.24620889e-02   8.71606640e-02 ...,   8.01110172e-01\n",
        "    7.45693242e-02   4.79613502e-01]\n",
        " [  1.41421356e-01  -2.22600089e-01  -2.97764331e-01 ...,   2.20978114e-05\n",
        "   -5.58705153e-05   1.83394079e-04]\n",
        " ..., \n",
        " [  1.41421356e-01  -5.43806216e-02   6.78040674e-02 ...,   1.76084779e-03\n",
        "   -3.88692502e-03   5.83212685e-03]\n",
        " [  1.41421356e-01   3.09493563e-01  -1.63501042e-01 ...,   9.33099046e-05\n",
        "    1.90682455e-05   5.25257115e-05]\n",
        " [  1.41421356e-01  -4.25110536e-02   9.28651504e-02 ...,   6.50302915e-03\n",
        "    2.42794963e-02   1.30725215e-02]]\n"
       ]
      }
     ],
     "prompt_number": 10
    },
    {
     "cell_type": "code",
     "collapsed": false,
     "input": [
      "ec = {}\n",
      "large_v = eigenVectors[:,len(eigenValues)-1] #vectors correspond to largest eigenvalues\n",
      "print large_v[0]\n",
      "for i in p.keys():\n",
      "    ec[i] = large_v[i]\n",
      "#print ec\n",
      "#print len(eigenValues)"
     ],
     "language": "python",
     "metadata": {},
     "outputs": [
      {
       "output_type": "stream",
       "stream": "stdout",
       "text": [
        "[[-0.02578708]]\n"
       ]
      }
     ],
     "prompt_number": 28
    },
    {
     "cell_type": "code",
     "collapsed": false,
     "input": [
      "nx.set_node_attributes(G,'eigen_cent',ec)"
     ],
     "language": "python",
     "metadata": {},
     "outputs": [
      {
       "ename": "AttributeError",
       "evalue": "'set' object has no attribute 'items'",
       "output_type": "pyerr",
       "traceback": [
        "\u001b[0;31m---------------------------------------------------------------------------\u001b[0m\n\u001b[0;31mAttributeError\u001b[0m                            Traceback (most recent call last)",
        "\u001b[0;32m<ipython-input-16-9e6323b0f08b>\u001b[0m in \u001b[0;36m<module>\u001b[0;34m()\u001b[0m\n\u001b[0;32m----> 1\u001b[0;31m \u001b[0mnx\u001b[0m\u001b[0;34m.\u001b[0m\u001b[0mset_node_attributes\u001b[0m\u001b[0;34m(\u001b[0m\u001b[0mG\u001b[0m\u001b[0;34m,\u001b[0m\u001b[0;34m'eigen_cent'\u001b[0m\u001b[0;34m,\u001b[0m\u001b[0mlarge_v\u001b[0m\u001b[0;34m)\u001b[0m\u001b[0;34m\u001b[0m\u001b[0m\n\u001b[0m",
        "\u001b[0;32m/Users/Hangxin/Library/Enthought/Canopy_64bit/User/lib/python2.7/site-packages/networkx/classes/function.pyc\u001b[0m in \u001b[0;36mset_node_attributes\u001b[0;34m(G, name, attributes)\u001b[0m\n\u001b[1;32m    301\u001b[0m     \u001b[0;36m1.0\u001b[0m\u001b[0;34m\u001b[0m\u001b[0m\n\u001b[1;32m    302\u001b[0m     \"\"\"\n\u001b[0;32m--> 303\u001b[0;31m     \u001b[0;32mfor\u001b[0m \u001b[0mnode\u001b[0m\u001b[0;34m,\u001b[0m\u001b[0mvalue\u001b[0m \u001b[0;32min\u001b[0m \u001b[0mattributes\u001b[0m\u001b[0;34m.\u001b[0m\u001b[0mitems\u001b[0m\u001b[0;34m(\u001b[0m\u001b[0;34m)\u001b[0m\u001b[0;34m:\u001b[0m\u001b[0;34m\u001b[0m\u001b[0m\n\u001b[0m\u001b[1;32m    304\u001b[0m         \u001b[0mG\u001b[0m\u001b[0;34m.\u001b[0m\u001b[0mnode\u001b[0m\u001b[0;34m[\u001b[0m\u001b[0mnode\u001b[0m\u001b[0;34m]\u001b[0m\u001b[0;34m[\u001b[0m\u001b[0mname\u001b[0m\u001b[0;34m]\u001b[0m\u001b[0;34m=\u001b[0m\u001b[0mvalue\u001b[0m\u001b[0;34m\u001b[0m\u001b[0m\n\u001b[1;32m    305\u001b[0m \u001b[0;34m\u001b[0m\u001b[0m\n",
        "\u001b[0;31mAttributeError\u001b[0m: 'set' object has no attribute 'items'"
       ]
      }
     ],
     "prompt_number": 16
    },
    {
     "cell_type": "code",
     "collapsed": false,
     "input": [
      "save_to_jsonfile(\"/Users/Hangxin/Documents/project/random_geometric/random_graph_2.json\", G)"
     ],
     "language": "python",
     "metadata": {},
     "outputs": [],
     "prompt_number": 12
    },
    {
     "cell_type": "code",
     "collapsed": false,
     "input": [
      "import json\n",
      "from networkx.readwrite import json_graph\n",
      "def save_to_jsonfile(filename, graph):\n",
      "\t''' \n",
      "\tSave graph object to filename \n",
      "\t'''\n",
      "\tg = graph\n",
      "\tg_json = json_graph.node_link_data(g) # node-link format to serialize\n",
      "\tjson.dump(g_json, open(filename,'w'))"
     ],
     "language": "python",
     "metadata": {},
     "outputs": [],
     "prompt_number": 42
    },
    {
     "cell_type": "code",
     "collapsed": false,
     "input": [
      "save_to_jsonfile(\"/Users/Hangxin/Documents/project/eigen_ranking_networkx/this is for barbell_1\", G_ba)"
     ],
     "language": "python",
     "metadata": {},
     "outputs": [],
     "prompt_number": 43
    },
    {
     "cell_type": "code",
     "collapsed": false,
     "input": [
      "import sys\n",
      "sys.path.append('/Users/Hangxin/Documents/project/python_project/')\n",
      "#import SimpleHTTPServer\n",
      "import http_server\n",
      "http_server.load_url('d3_test_1.html')"
     ],
     "language": "python",
     "metadata": {},
     "outputs": [
      {
       "name": "stdout",
       "output_type": "stream",
       "stream": "stdout",
       "text": [
        "Press <RETURN> to stop server\n",
        "\n"
       ]
      },
      {
       "output_type": "stream",
       "stream": "stdout",
       "text": [
        "To restart server run: \n",
        "python -m SimpleHTTPServer 8000\n"
       ]
      },
      {
       "name": "stdout",
       "output_type": "stream",
       "stream": "stdout",
       "text": [
        "Press <RETURN> to stop server\n",
        "\n"
       ]
      }
     ],
     "prompt_number": 1
    },
    {
     "cell_type": "code",
     "collapsed": false,
     "input": [],
     "language": "python",
     "metadata": {},
     "outputs": []
    }
   ],
   "metadata": {}
  }
 ]
}
